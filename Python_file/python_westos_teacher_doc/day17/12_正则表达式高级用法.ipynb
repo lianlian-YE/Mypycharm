{
 "cells": [
  {
   "cell_type": "markdown",
   "metadata": {
    "collapsed": true
   },
   "source": [
    "## 1. findall方法"
   ]
  },
  {
   "cell_type": "markdown",
   "metadata": {},
   "source": [
    "## 2. match方法"
   ]
  },
  {
   "cell_type": "markdown",
   "metadata": {},
   "source": [
    "## 3. search方法"
   ]
  },
  {
   "cell_type": "code",
   "execution_count": null,
   "metadata": {},
   "outputs": [],
   "source": [
    "# 找到符和条件的第一个并且返回;\n",
    "import re\n",
    "\n",
    "pattern = r'http://(.+)'\n",
    "s = \"hello world http://www.baidu.com   http://www.qq.com\"\n",
    "print(re.search(pattern, s))"
   ]
  },
  {
   "cell_type": "code",
   "execution_count": null,
   "metadata": {},
   "outputs": [],
   "source": [
    "# 找到符和条件的第一个并且返回;\n",
    "import re\n",
    "\n",
    "pattern = r'http://(.+)'\n",
    "s = \"hello world http://www.baidu.com   http://www.qq.com\"\n",
    "print(re.search(pattern, s))"
   ]
  },
  {
   "cell_type": "markdown",
   "metadata": {},
   "source": [
    "## 4. sub方法\n"
   ]
  },
  {
   "cell_type": "code",
   "execution_count": null,
   "metadata": {},
   "outputs": [],
   "source": [
    "# replace: 替换字符串的xxx为xxxx\n",
    "# sub: 对于匹配到正则的字符串进行替换\n",
    "\n",
    "s = \"阅读次数为10000, 转发次数为100\"\n",
    "print(re.sub(r'\\d+', '0', s))"
   ]
  },
  {
   "cell_type": "code",
   "execution_count": null,
   "metadata": {},
   "outputs": [],
   "source": [
    "# 需求: 对于匹配到的内容全部加1：\n",
    "def addOne(matchObj):\n",
    "    \"\"\"matchObj是匹配到内容的Match对象\"\"\"\n",
    "    res = int(matchObj.group()) + 1\n",
    "    return str(res)\n",
    "print(re.sub(r'\\d+', addOne, s))"
   ]
  },
  {
   "cell_type": "markdown",
   "metadata": {},
   "source": [
    "## 5. split:"
   ]
  },
  {
   "cell_type": "code",
   "execution_count": null,
   "metadata": {},
   "outputs": [],
   "source": [
    ""
   ]
  }
 ],
 "metadata": {
  "kernelspec": {
   "display_name": "Python 2",
   "language": "python",
   "name": "python2"
  },
  "language_info": {
   "codemirror_mode": {
    "name": "ipython",
    "version": 2.0
   },
   "file_extension": ".py",
   "mimetype": "text/x-python",
   "name": "python",
   "nbconvert_exporter": "python",
   "pygments_lexer": "ipython2",
   "version": "2.7.6"
  }
 },
 "nbformat": 4,
 "nbformat_minor": 0
}